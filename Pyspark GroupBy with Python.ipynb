{
 "cells": [
  {
   "cell_type": "code",
   "execution_count": 1,
   "id": "8510d6a4-332e-4d35-a983-5f0a5a87980b",
   "metadata": {},
   "outputs": [],
   "source": [
    "from pyspark.sql import SparkSession"
   ]
  },
  {
   "cell_type": "code",
   "execution_count": 2,
   "id": "17d2ebc8-c39e-49fd-b3e0-0f48c9433ee9",
   "metadata": {},
   "outputs": [],
   "source": [
    "spark = SparkSession.builder.appName(\"practice\").getOrCreate()"
   ]
  },
  {
   "cell_type": "code",
   "execution_count": 3,
   "id": "53f875e7-11d6-42f0-84ec-3ebed7120320",
   "metadata": {},
   "outputs": [],
   "source": [
    "df_spark = spark.read.csv('test.csv',header=True,inferSchema=True)"
   ]
  },
  {
   "cell_type": "code",
   "execution_count": 5,
   "id": "e7f7bc39-b8a9-4740-9006-b3585eb79d2d",
   "metadata": {},
   "outputs": [
    {
     "name": "stdout",
     "output_type": "stream",
     "text": [
      "+--------+------------+------+\n",
      "|    name|  Department|salary|\n",
      "+--------+------------+------+\n",
      "|    john|Data science| 30000|\n",
      "|    mary|         iot| 25000|\n",
      "|    mary|    Big Data| 28000|\n",
      "|john doe|    Big Data| 18000|\n",
      "|  shubam|Data science| 40000|\n",
      "|  mahesh|         iot| 10000|\n",
      "|    john|    Big Data|  5000|\n",
      "|   Sunny|Data science| 10000|\n",
      "+--------+------------+------+\n",
      "\n"
     ]
    }
   ],
   "source": [
    "df_spark.show()"
   ]
  },
  {
   "cell_type": "code",
   "execution_count": 6,
   "id": "80e7d828-6541-43df-8cb0-02f5125f43b6",
   "metadata": {},
   "outputs": [
    {
     "name": "stdout",
     "output_type": "stream",
     "text": [
      "root\n",
      " |-- name: string (nullable = true)\n",
      " |-- Department: string (nullable = true)\n",
      " |-- salary: integer (nullable = true)\n",
      "\n"
     ]
    }
   ],
   "source": [
    "df_spark.printSchema()"
   ]
  },
  {
   "cell_type": "code",
   "execution_count": 9,
   "id": "4aa7ca95-46dc-4946-b8ac-14cdc92f70d0",
   "metadata": {},
   "outputs": [
    {
     "name": "stdout",
     "output_type": "stream",
     "text": [
      "+--------+-----------+\n",
      "|    name|sum(salary)|\n",
      "+--------+-----------+\n",
      "|    mary|      53000|\n",
      "|   Sunny|      10000|\n",
      "|  shubam|      40000|\n",
      "|    john|      35000|\n",
      "|  mahesh|      10000|\n",
      "|john doe|      18000|\n",
      "+--------+-----------+\n",
      "\n"
     ]
    }
   ],
   "source": [
    "### Group By\n",
    "### Group to find the maximum salary\n",
    "df_spark.groupBy('name').sum().show()"
   ]
  },
  {
   "cell_type": "code",
   "execution_count": 14,
   "id": "b1f6a905-9a05-4e20-82ae-e4a1baebb1fe",
   "metadata": {},
   "outputs": [
    {
     "name": "stdout",
     "output_type": "stream",
     "text": [
      "+------------+-----------+\n",
      "|  Department|sum(salary)|\n",
      "+------------+-----------+\n",
      "|         iot|      35000|\n",
      "|Data science|      80000|\n",
      "|    Big Data|      51000|\n",
      "+------------+-----------+\n",
      "\n"
     ]
    }
   ],
   "source": [
    "### Group By Department which gives maximum salary\n",
    "df_spark.groupBy('Department').sum().show()"
   ]
  },
  {
   "cell_type": "code",
   "execution_count": 15,
   "id": "fc9e9477-ead0-46be-9053-8bfb182bf7fb",
   "metadata": {},
   "outputs": [],
   "source": [
    "### Mean salary"
   ]
  },
  {
   "cell_type": "code",
   "execution_count": 17,
   "id": "d05f5034-284c-4957-8025-399f9c5829f4",
   "metadata": {},
   "outputs": [
    {
     "name": "stdout",
     "output_type": "stream",
     "text": [
      "+------------+------------------+\n",
      "|  Department|       avg(salary)|\n",
      "+------------+------------------+\n",
      "|         iot|           17500.0|\n",
      "|Data science|26666.666666666668|\n",
      "|    Big Data|           17000.0|\n",
      "+------------+------------------+\n",
      "\n"
     ]
    }
   ],
   "source": [
    "df_spark.groupBy('Department').mean().show()"
   ]
  },
  {
   "cell_type": "code",
   "execution_count": 20,
   "id": "a3422b83-9a4e-4734-b789-deeecebaddad",
   "metadata": {},
   "outputs": [
    {
     "name": "stdout",
     "output_type": "stream",
     "text": [
      "+------------+-----+\n",
      "|  Department|count|\n",
      "+------------+-----+\n",
      "|         iot|    2|\n",
      "|Data science|    3|\n",
      "|    Big Data|    3|\n",
      "+------------+-----+\n",
      "\n"
     ]
    }
   ],
   "source": [
    "df_spark.groupBy('Department').count().show()"
   ]
  },
  {
   "cell_type": "code",
   "execution_count": 21,
   "id": "b1a4a0ea-d512-4272-8c96-37b73b6e82a9",
   "metadata": {},
   "outputs": [
    {
     "name": "stdout",
     "output_type": "stream",
     "text": [
      "+-----------+\n",
      "|sum(Salary)|\n",
      "+-----------+\n",
      "|     166000|\n",
      "+-----------+\n",
      "\n"
     ]
    }
   ],
   "source": [
    "df_spark.agg({'Salary':'sum'}).show()"
   ]
  },
  {
   "cell_type": "code",
   "execution_count": 22,
   "id": "d67e7068-3ffd-4abf-80d8-41ba67203c9a",
   "metadata": {},
   "outputs": [
    {
     "name": "stdout",
     "output_type": "stream",
     "text": [
      "+--------+-----------+\n",
      "|    name|max(salary)|\n",
      "+--------+-----------+\n",
      "|    mary|      28000|\n",
      "|   Sunny|      10000|\n",
      "|  shubam|      40000|\n",
      "|    john|      30000|\n",
      "|  mahesh|      10000|\n",
      "|john doe|      18000|\n",
      "+--------+-----------+\n",
      "\n"
     ]
    }
   ],
   "source": [
    "df_spark.groupBy('name').max().show()"
   ]
  },
  {
   "cell_type": "code",
   "execution_count": 23,
   "id": "b12b8367-b759-451f-a7a3-504884de117d",
   "metadata": {},
   "outputs": [
    {
     "name": "stdout",
     "output_type": "stream",
     "text": [
      "+--------+-----------+\n",
      "|    name|min(salary)|\n",
      "+--------+-----------+\n",
      "|    mary|      25000|\n",
      "|   Sunny|      10000|\n",
      "|  shubam|      40000|\n",
      "|    john|       5000|\n",
      "|  mahesh|      10000|\n",
      "|john doe|      18000|\n",
      "+--------+-----------+\n",
      "\n"
     ]
    }
   ],
   "source": [
    "df_spark.groupBy('name').min().show()"
   ]
  },
  {
   "cell_type": "code",
   "execution_count": null,
   "id": "97fe113d-5a85-4982-9dd9-03cfb7b545ed",
   "metadata": {},
   "outputs": [],
   "source": []
  },
  {
   "cell_type": "code",
   "execution_count": null,
   "id": "76a3c30f-7d38-4e15-8eb0-0aaf0625f9e0",
   "metadata": {},
   "outputs": [],
   "source": []
  },
  {
   "cell_type": "code",
   "execution_count": null,
   "id": "10b2f592-caa0-4d5c-98ab-345b3c381f0e",
   "metadata": {},
   "outputs": [],
   "source": []
  },
  {
   "cell_type": "code",
   "execution_count": null,
   "id": "f4c24ef8-54ca-4794-8031-655848517489",
   "metadata": {},
   "outputs": [],
   "source": []
  }
 ],
 "metadata": {
  "kernelspec": {
   "display_name": "Python 3 (ipykernel)",
   "language": "python",
   "name": "python3"
  },
  "language_info": {
   "codemirror_mode": {
    "name": "ipython",
    "version": 3
   },
   "file_extension": ".py",
   "mimetype": "text/x-python",
   "name": "python",
   "nbconvert_exporter": "python",
   "pygments_lexer": "ipython3",
   "version": "3.11.0b1"
  }
 },
 "nbformat": 4,
 "nbformat_minor": 5
}
