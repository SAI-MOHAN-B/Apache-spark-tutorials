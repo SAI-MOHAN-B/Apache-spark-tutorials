{
 "cells": [
  {
   "cell_type": "code",
   "execution_count": null,
   "id": "1c536b30-b459-4914-8a8c-de16a2c5a38c",
   "metadata": {},
   "outputs": [],
   "source": []
  },
  {
   "cell_type": "code",
   "execution_count": 4,
   "id": "050add1e-3f91-4196-9c03-5b26079508cf",
   "metadata": {},
   "outputs": [],
   "source": [
    "from pyspark.sql import SparkSession"
   ]
  },
  {
   "cell_type": "code",
   "execution_count": 5,
   "id": "0237bd4d-a79b-4768-ab5a-2a6cc8315dde",
   "metadata": {},
   "outputs": [],
   "source": [
    "import os\n",
    "import sys"
   ]
  },
  {
   "cell_type": "code",
   "execution_count": 6,
   "id": "d7c7753c-757b-4b6d-aae5-a560a607ace9",
   "metadata": {},
   "outputs": [],
   "source": [
    "os.environ['PYSPARK_PYTHON'] = sys.executable\n",
    "os.environ['PYSPARK_DRIVER_PYTHON'] = sys.executable"
   ]
  },
  {
   "cell_type": "code",
   "execution_count": 7,
   "id": "a0454e9a-42cd-44f9-86bc-144d8cae3be7",
   "metadata": {},
   "outputs": [],
   "source": [
    "spark = SparkSession.builder.appName(\"Lowerl-level\").getOrCreate()"
   ]
  },
  {
   "cell_type": "code",
   "execution_count": 8,
   "id": "b9530fb7-172b-4f30-bc34-d98dcef6df43",
   "metadata": {},
   "outputs": [
    {
     "data": {
      "text/html": [
       "\n",
       "        <div>\n",
       "            <p><b>SparkContext</b></p>\n",
       "\n",
       "            <p><a href=\"http://SAYONARA.lan:4040\">Spark UI</a></p>\n",
       "\n",
       "            <dl>\n",
       "              <dt>Version</dt>\n",
       "                <dd><code>v3.5.1</code></dd>\n",
       "              <dt>Master</dt>\n",
       "                <dd><code>local[*]</code></dd>\n",
       "              <dt>AppName</dt>\n",
       "                <dd><code>Lowerl-level</code></dd>\n",
       "            </dl>\n",
       "        </div>\n",
       "        "
      ],
      "text/plain": [
       "<SparkContext master=local[*] appName=Lowerl-level>"
      ]
     },
     "execution_count": 8,
     "metadata": {},
     "output_type": "execute_result"
    }
   ],
   "source": [
    "spark.sparkContext"
   ]
  },
  {
   "cell_type": "code",
   "execution_count": 9,
   "id": "5775ef87-f1a1-47f4-95c0-e801cc278c6e",
   "metadata": {},
   "outputs": [
    {
     "data": {
      "text/plain": [
       "[Row(id=0),\n",
       " Row(id=1),\n",
       " Row(id=2),\n",
       " Row(id=3),\n",
       " Row(id=4),\n",
       " Row(id=5),\n",
       " Row(id=6),\n",
       " Row(id=7),\n",
       " Row(id=8),\n",
       " Row(id=9)]"
      ]
     },
     "execution_count": 9,
     "metadata": {},
     "output_type": "execute_result"
    }
   ],
   "source": [
    "spark.range(10).rdd.collect()"
   ]
  },
  {
   "cell_type": "code",
   "execution_count": 10,
   "id": "22234c4f-17f9-426a-9f4b-aa336037dcb8",
   "metadata": {},
   "outputs": [
    {
     "name": "stdout",
     "output_type": "stream",
     "text": [
      "+---+\n",
      "| id|\n",
      "+---+\n",
      "|  0|\n",
      "|  1|\n",
      "|  2|\n",
      "|  3|\n",
      "|  4|\n",
      "|  5|\n",
      "|  6|\n",
      "|  7|\n",
      "|  8|\n",
      "|  9|\n",
      "+---+\n",
      "\n"
     ]
    }
   ],
   "source": [
    "spark.range(10).show()"
   ]
  },
  {
   "cell_type": "code",
   "execution_count": 11,
   "id": "c29e62a1-cf31-4551-8097-ae9f3fbf362f",
   "metadata": {},
   "outputs": [
    {
     "data": {
      "text/plain": [
       "[0, 1, 2, 3, 4, 5, 6, 7, 8, 9]"
      ]
     },
     "execution_count": 11,
     "metadata": {},
     "output_type": "execute_result"
    }
   ],
   "source": [
    "spark.range(10).toDF(\"id\").rdd.map(lambda row:row[0]).collect()"
   ]
  },
  {
   "cell_type": "code",
   "execution_count": 12,
   "id": "51f00a66-6058-40a3-af8a-2b0e7a6adc99",
   "metadata": {},
   "outputs": [
    {
     "data": {
      "text/plain": [
       "DataFrame[id: bigint]"
      ]
     },
     "execution_count": 12,
     "metadata": {},
     "output_type": "execute_result"
    }
   ],
   "source": [
    "spark.range(10).rdd.toDF()"
   ]
  },
  {
   "cell_type": "code",
   "execution_count": 14,
   "id": "a7367d0e-e25a-42ec-b10c-ab9d6c7c2f91",
   "metadata": {},
   "outputs": [],
   "source": [
    "mycollection = \"My name is Mohan\".split(\" \")\n",
    "# here, we are mentioning the number of partitons the array has to be partitioned\n",
    "words= spark.sparkContext.parallelize(mycollection,2)"
   ]
  },
  {
   "cell_type": "code",
   "execution_count": 15,
   "id": "d5d2a4a2-3578-4202-93de-2dee3133a455",
   "metadata": {},
   "outputs": [
    {
     "data": {
      "text/plain": [
       "['My', 'name', 'is', 'Mohan']"
      ]
     },
     "execution_count": 15,
     "metadata": {},
     "output_type": "execute_result"
    }
   ],
   "source": [
    "mycollection"
   ]
  },
  {
   "cell_type": "code",
   "execution_count": 16,
   "id": "ba98a848-1165-432a-8fff-9bca9808ea4b",
   "metadata": {},
   "outputs": [
    {
     "data": {
      "text/plain": [
       "ParallelCollectionRDD[28] at readRDDFromFile at PythonRDD.scala:289"
      ]
     },
     "execution_count": 16,
     "metadata": {},
     "output_type": "execute_result"
    }
   ],
   "source": [
    "words"
   ]
  },
  {
   "cell_type": "code",
   "execution_count": 34,
   "id": "9dba892b-a6d6-4674-8ba4-fce6267dc2ec",
   "metadata": {},
   "outputs": [
    {
     "data": {
      "text/plain": [
       "['My', 'name', 'is', 'Mohan']"
      ]
     },
     "execution_count": 34,
     "metadata": {},
     "output_type": "execute_result"
    }
   ],
   "source": [
    "words.collect()"
   ]
  },
  {
   "cell_type": "code",
   "execution_count": 18,
   "id": "04ba1981-2d7b-457d-8235-13560b57fc52",
   "metadata": {},
   "outputs": [
    {
     "data": {
      "text/plain": [
       "4"
      ]
     },
     "execution_count": 18,
     "metadata": {},
     "output_type": "execute_result"
    }
   ],
   "source": [
    "words.distinct().count()"
   ]
  },
  {
   "cell_type": "code",
   "execution_count": null,
   "id": "80c6a284-355a-4135-ad57-672019c3eccb",
   "metadata": {},
   "outputs": [],
   "source": [
    "def startswithS(individual):\n",
    "    return individual.startswith(\"i\")"
   ]
  },
  {
   "cell_type": "code",
   "execution_count": 20,
   "id": "ba79fb0c-d6f7-4bb7-9413-b014cae3d4e6",
   "metadata": {},
   "outputs": [],
   "source": [
    "def startswithS(individual):\n",
    "    return individual.startswith(\"i\")"
   ]
  },
  {
   "cell_type": "code",
   "execution_count": 21,
   "id": "31ed406e-7be5-4f1a-b58b-f587b92c1fb0",
   "metadata": {},
   "outputs": [
    {
     "data": {
      "text/plain": [
       "['is']"
      ]
     },
     "execution_count": 21,
     "metadata": {},
     "output_type": "execute_result"
    }
   ],
   "source": [
    "words.filter(lambda word: startswithS(word)).collect()"
   ]
  },
  {
   "cell_type": "code",
   "execution_count": 40,
   "id": "ad84d4c5-2c9d-4abc-a474-015a03f322ae",
   "metadata": {},
   "outputs": [],
   "source": [
    "words2 = words.map(lambda word:(word,word[0],word.startswith('M')))"
   ]
  },
  {
   "cell_type": "code",
   "execution_count": 41,
   "id": "64025078-0597-498f-a741-920a9870fc34",
   "metadata": {},
   "outputs": [
    {
     "data": {
      "text/plain": [
       "[('My', 'M', True),\n",
       " ('name', 'n', False),\n",
       " ('is', 'i', False),\n",
       " ('Mohan', 'M', True)]"
      ]
     },
     "execution_count": 41,
     "metadata": {},
     "output_type": "execute_result"
    }
   ],
   "source": [
    "words2.collect()"
   ]
  },
  {
   "cell_type": "code",
   "execution_count": 39,
   "id": "11619a4a-4f96-4ffe-acf1-b1e80fbf9457",
   "metadata": {},
   "outputs": [
    {
     "data": {
      "text/plain": [
       "[]"
      ]
     },
     "execution_count": 39,
     "metadata": {},
     "output_type": "execute_result"
    }
   ],
   "source": [
    "words2.filter(lambda record:record[2]).take(5)"
   ]
  },
  {
   "cell_type": "code",
   "execution_count": 43,
   "id": "1199b232-e1e6-4463-a9ad-330f1cd03556",
   "metadata": {},
   "outputs": [
    {
     "data": {
      "text/plain": [
       "['M', 'y', 'n', 'a', 'm', 'e', 'i', 's', 'M']"
      ]
     },
     "execution_count": 43,
     "metadata": {},
     "output_type": "execute_result"
    }
   ],
   "source": [
    "words.flatMap(lambda word:list(word)).take(9)"
   ]
  },
  {
   "cell_type": "code",
   "execution_count": 44,
   "id": "6f55d27f-b21c-49c8-a1c8-f5027f9e0550",
   "metadata": {},
   "outputs": [
    {
     "data": {
      "text/plain": [
       "['Mohan', 'name', 'My', 'is']"
      ]
     },
     "execution_count": 44,
     "metadata": {},
     "output_type": "execute_result"
    }
   ],
   "source": [
    "words.sortBy(lambda word: len(word) * -1).take(4)"
   ]
  },
  {
   "cell_type": "code",
   "execution_count": 48,
   "id": "370bad87-b330-400d-90f5-d91ae85137e0",
   "metadata": {},
   "outputs": [
    {
     "data": {
      "text/plain": [
       "defaultdict(int, {'My': 1, 'name': 1, 'is': 1, 'Mohan': 1})"
      ]
     },
     "execution_count": 48,
     "metadata": {},
     "output_type": "execute_result"
    }
   ],
   "source": [
    "words.countByValue()"
   ]
  },
  {
   "cell_type": "code",
   "execution_count": null,
   "id": "6bf219f5-a7f3-4c27-b5b0-7b6cd6c661da",
   "metadata": {},
   "outputs": [],
   "source": []
  },
  {
   "cell_type": "code",
   "execution_count": null,
   "id": "6b3c5cc6-bd39-44ae-b15e-f34297d17ab0",
   "metadata": {},
   "outputs": [],
   "source": []
  },
  {
   "cell_type": "code",
   "execution_count": null,
   "id": "4fe4c297-f7a6-4a17-9615-a4b2d20f13f4",
   "metadata": {},
   "outputs": [],
   "source": []
  },
  {
   "cell_type": "code",
   "execution_count": null,
   "id": "c1fabdf2-4585-48f9-b9c0-2fe28535fa9a",
   "metadata": {},
   "outputs": [],
   "source": []
  },
  {
   "cell_type": "code",
   "execution_count": null,
   "id": "c1983d24-1ee7-428e-8785-484790ad24c4",
   "metadata": {},
   "outputs": [],
   "source": []
  },
  {
   "cell_type": "code",
   "execution_count": null,
   "id": "6a90d2c2-f09e-41a6-b8fe-17574b39df5b",
   "metadata": {},
   "outputs": [],
   "source": []
  }
 ],
 "metadata": {
  "kernelspec": {
   "display_name": "Python 3 (ipykernel)",
   "language": "python",
   "name": "python3"
  },
  "language_info": {
   "codemirror_mode": {
    "name": "ipython",
    "version": 3
   },
   "file_extension": ".py",
   "mimetype": "text/x-python",
   "name": "python",
   "nbconvert_exporter": "python",
   "pygments_lexer": "ipython3",
   "version": "3.11.0b1"
  }
 },
 "nbformat": 4,
 "nbformat_minor": 5
}
