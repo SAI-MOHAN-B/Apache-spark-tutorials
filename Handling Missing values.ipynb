{
 "cells": [
  {
   "cell_type": "code",
   "execution_count": 3,
   "id": "a1ee8b11-8213-4699-b17d-5f799886a28d",
   "metadata": {},
   "outputs": [],
   "source": [
    "### Dropping Columns,Dropping Values, Various Parameter in Dropping Functionalities, Handling Missing Values"
   ]
  },
  {
   "cell_type": "code",
   "execution_count": 2,
   "id": "43d2fb75-9dc8-4e65-a6df-3dda6cb090bb",
   "metadata": {},
   "outputs": [],
   "source": [
    "from pyspark.sql import SparkSession\n",
    "spark = SparkSession.builder.appName('new Practice').getOrCreate()"
   ]
  },
  {
   "cell_type": "code",
   "execution_count": 3,
   "id": "2cc98680-2bef-42ef-95da-7303ff1e904a",
   "metadata": {},
   "outputs": [
    {
     "data": {
      "text/plain": [
       "'E:\\\\Jupyter notebook\\\\Practice'"
      ]
     },
     "execution_count": 3,
     "metadata": {},
     "output_type": "execute_result"
    }
   ],
   "source": [
    "pwd"
   ]
  },
  {
   "cell_type": "code",
   "execution_count": 4,
   "id": "1e7eb651-bcde-4e2b-8aa3-ed55063c139d",
   "metadata": {},
   "outputs": [],
   "source": [
    "py_spark = spark.read.csv('test.csv',header=True,inferSchema=True)"
   ]
  },
  {
   "cell_type": "code",
   "execution_count": 5,
   "id": "93758665-a17e-4dd2-8ee1-a372e86449fd",
   "metadata": {},
   "outputs": [
    {
     "name": "stdout",
     "output_type": "stream",
     "text": [
      "+--------+----+----------+------+\n",
      "|    name| age|experience|salary|\n",
      "+--------+----+----------+------+\n",
      "|    john|  23|        10| 30000|\n",
      "|    mary|  24|         8| 25000|\n",
      "|john doe|  25|         9| 28000|\n",
      "|  shubam|  26|         2| 18000|\n",
      "|  mahesh|NULL|      NULL| 40000|\n",
      "|    NULL|  34|        10| 38000|\n",
      "|    NULL|  36|      NULL|  NULL|\n",
      "+--------+----+----------+------+\n",
      "\n"
     ]
    }
   ],
   "source": [
    "py_spark.show()"
   ]
  },
  {
   "cell_type": "code",
   "execution_count": 6,
   "id": "79902bd2-1556-4439-b036-a11e6bcc6a09",
   "metadata": {},
   "outputs": [],
   "source": [
    "### Drop the Columns"
   ]
  },
  {
   "cell_type": "code",
   "execution_count": 7,
   "id": "300cae49-1507-4490-a6f2-e1b2eb3aa0e0",
   "metadata": {},
   "outputs": [
    {
     "name": "stdout",
     "output_type": "stream",
     "text": [
      "+----+----------+------+\n",
      "| age|experience|salary|\n",
      "+----+----------+------+\n",
      "|  23|        10| 30000|\n",
      "|  24|         8| 25000|\n",
      "|  25|         9| 28000|\n",
      "|  26|         2| 18000|\n",
      "|NULL|      NULL| 40000|\n",
      "|  34|        10| 38000|\n",
      "|  36|      NULL|  NULL|\n",
      "+----+----------+------+\n",
      "\n"
     ]
    }
   ],
   "source": [
    "py_spark.drop('Name').show()"
   ]
  },
  {
   "cell_type": "code",
   "execution_count": 8,
   "id": "3bed8acc-f775-496a-bacd-92e73fb16898",
   "metadata": {},
   "outputs": [
    {
     "name": "stdout",
     "output_type": "stream",
     "text": [
      "+--------+---+----------+------+\n",
      "|    name|age|experience|salary|\n",
      "+--------+---+----------+------+\n",
      "|    john| 23|        10| 30000|\n",
      "|    mary| 24|         8| 25000|\n",
      "|john doe| 25|         9| 28000|\n",
      "|  shubam| 26|         2| 18000|\n",
      "+--------+---+----------+------+\n",
      "\n"
     ]
    }
   ],
   "source": [
    "### This command is going to Drop the columns which are having the null values\n",
    "py_spark.na.drop().show()\n"
   ]
  },
  {
   "cell_type": "code",
   "execution_count": 9,
   "id": "6ef86632-e205-4b79-97ed-9352bed1d5dc",
   "metadata": {},
   "outputs": [],
   "source": [
    "### Any == how\n",
    "\n",
    "### Drooping the Columns based on the any number of  the null values\n",
    "### If how consist of any\n",
    "#### it will drop such rows where if it is having more than one null values"
   ]
  },
  {
   "cell_type": "code",
   "execution_count": 10,
   "id": "a96300a9-a6f9-47f1-85e4-064b39429073",
   "metadata": {},
   "outputs": [
    {
     "name": "stdout",
     "output_type": "stream",
     "text": [
      "+--------+---+----------+------+\n",
      "|    name|age|experience|salary|\n",
      "+--------+---+----------+------+\n",
      "|    john| 23|        10| 30000|\n",
      "|    mary| 24|         8| 25000|\n",
      "|john doe| 25|         9| 28000|\n",
      "|  shubam| 26|         2| 18000|\n",
      "+--------+---+----------+------+\n",
      "\n"
     ]
    }
   ],
   "source": [
    "py_spark.na.drop(how=\"any\").show()"
   ]
  },
  {
   "cell_type": "code",
   "execution_count": 22,
   "id": "4f7116d9-3c73-478e-b8b3-ef6391fb3518",
   "metadata": {},
   "outputs": [
    {
     "name": "stdout",
     "output_type": "stream",
     "text": [
      "+--------+----+----------+------+\n",
      "|    name| age|experience|salary|\n",
      "+--------+----+----------+------+\n",
      "|    john|  23|        10| 30000|\n",
      "|    mary|  24|         8| 25000|\n",
      "|john doe|  25|         9| 28000|\n",
      "|  shubam|  26|         2| 18000|\n",
      "|  mahesh|NULL|      NULL| 40000|\n",
      "|    NULL|  34|        10| 38000|\n",
      "+--------+----+----------+------+\n",
      "\n"
     ]
    }
   ],
   "source": [
    "# threshold\n",
    "# How many list of non-null values are present\n",
    "# here thres is a keyword that represent the non-null values\n",
    "py_spark.na.drop(how=\"any\",thresh=2).show()"
   ]
  },
  {
   "cell_type": "code",
   "execution_count": 13,
   "id": "8a02cebd-ef8f-45dc-abdb-4ac224fd7935",
   "metadata": {},
   "outputs": [],
   "source": [
    "# it shows only those rows which are having 2 not null values"
   ]
  },
  {
   "cell_type": "code",
   "execution_count": null,
   "id": "2ef9d346-f496-461c-877f-94e8db467834",
   "metadata": {},
   "outputs": [],
   "source": [
    "# Subset\n"
   ]
  },
  {
   "cell_type": "code",
   "execution_count": 25,
   "id": "14b7db96-1c9b-4066-afa1-8401d2e8b1e1",
   "metadata": {},
   "outputs": [
    {
     "name": "stdout",
     "output_type": "stream",
     "text": [
      "+--------+----+----------+------+\n",
      "|    name| age|experience|salary|\n",
      "+--------+----+----------+------+\n",
      "|    john|  23|        10| 30000|\n",
      "|    mary|  24|         8| 25000|\n",
      "|john doe|  25|         9| 28000|\n",
      "|  shubam|  26|         2| 18000|\n",
      "|  mahesh|NULL|      NULL| 40000|\n",
      "|    NULL|  34|        10| 38000|\n",
      "|    NULL|  36|      NULL|  NULL|\n",
      "+--------+----+----------+------+\n",
      "\n"
     ]
    }
   ],
   "source": [
    "# Fill the Missing Values\n",
    "py_spark.na.fill('Missing Values',['age']).show()"
   ]
  },
  {
   "cell_type": "code",
   "execution_count": 26,
   "id": "34dec629-993a-48fa-bdc7-5d61455052fd",
   "metadata": {},
   "outputs": [
    {
     "data": {
      "text/plain": [
       "DataFrame[name: string, age: int, experience: int, salary: int]"
      ]
     },
     "execution_count": 26,
     "metadata": {},
     "output_type": "execute_result"
    }
   ],
   "source": [
    "py_spark"
   ]
  },
  {
   "cell_type": "code",
   "execution_count": null,
   "id": "78b6e907-ddfa-46a9-8ee4-61c9ab41f636",
   "metadata": {},
   "outputs": [],
   "source": []
  },
  {
   "cell_type": "code",
   "execution_count": null,
   "id": "d8711ee8-ef76-4f4c-9996-8cf08b8abfce",
   "metadata": {},
   "outputs": [],
   "source": []
  }
 ],
 "metadata": {
  "kernelspec": {
   "display_name": "Python 3 (ipykernel)",
   "language": "python",
   "name": "python3"
  },
  "language_info": {
   "codemirror_mode": {
    "name": "ipython",
    "version": 3
   },
   "file_extension": ".py",
   "mimetype": "text/x-python",
   "name": "python",
   "nbconvert_exporter": "python",
   "pygments_lexer": "ipython3",
   "version": "3.11.0b1"
  }
 },
 "nbformat": 4,
 "nbformat_minor": 5
}
